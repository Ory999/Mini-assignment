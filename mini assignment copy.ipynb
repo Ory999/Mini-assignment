{
 "cells": [
  {
   "cell_type": "code",
   "execution_count": 2,
   "id": "22903c63-4399-4d7a-a643-eeac49b35123",
   "metadata": {},
   "outputs": [],
   "source": [
    "import os\n",
    "import warnings\n",
    "import os\n",
    "from bertopic import BERTopic\n",
    "import subprocess\n",
    "import time\n",
    "import requests\n",
    "import json\n",
    "import pandas as pd\n",
    "import ollama\n",
    "from pydantic import BaseModel, Field, ValidationError\n",
    "from typing import List, Literal, Optional\n",
    "from tqdm import tqdm\n",
    "from sklearn.metrics import accuracy_score, classification_report, confusion_matrix\n",
    "import seaborn as sns\n",
    "import matplotlib.pyplot as plt\n",
    "import kagglehub\n",
    "import bz2\n",
    "from transformers import pipeline\n",
    "from tqdm import tqdm\n",
    "from sentence_transformers import SentenceTransformer\n",
    "\n",
    "warnings.filterwarnings(\"ignore\")\n",
    "os.environ[\"OMP_NUM_THREADS\"] = \"1\"\n",
    "warnings.filterwarnings(\"ignore\")"
   ]
  },
  {
   "cell_type": "code",
   "execution_count": 3,
   "id": "0b7c7865",
   "metadata": {},
   "outputs": [],
   "source": [
    "\n",
    "# Configuration\n",
    "INPUT_JSON_PATH = \"dk_posts_synth_en_processed.json\"   # Path to a JSON file containing a *list* of dictionaries\n",
    "OUTPUT_DIR = \"outputs\"\n",
    "os.makedirs(OUTPUT_DIR, exist_ok=True)\n",
    "\n",
    "# Model Parameters\n",
    "EMBEDDING_MODEL_NAME = \"intfloat/multilingual-e5-small\"\n",
    "MIN_TOPIC_SIZE = 10       # Minimum number of documents to form a topic\n",
    "N_NEIGHBORS = 12          # Used by UMAP for dimensionality reduction\n",
    "N_COMPONENTS = 5          # Used by UMAP for dimensionality reduction\n",
    "RANDOM_STATE = 42         # Ensures reproducible results"
   ]
  },
  {
   "cell_type": "code",
   "execution_count": 2,
   "id": "feca355f",
   "metadata": {},
   "outputs": [
    {
     "name": "stdout",
     "output_type": "stream",
     "text": [
      "Path to dataset files: /Users/christianorynielsen/.cache/kagglehub/datasets/bittlingmayer/amazonreviews/versions/7\n"
     ]
    }
   ],
   "source": [
    "import kagglehub\n",
    "\n",
    "# Download latest version\n",
    "df=path = kagglehub.dataset_download(\"bittlingmayer/amazonreviews\")\n",
    "\n",
    "print(\"Path to dataset files:\", df)\n"
   ]
  },
  {
   "cell_type": "code",
   "execution_count": 3,
   "id": "614ea6a3",
   "metadata": {},
   "outputs": [
    {
     "name": "stdout",
     "output_type": "stream",
     "text": [
      "Hello from Ollama! 👋 \n",
      "\n",
      "\n",
      "\n",
      "It's nice to connect! 😊\n"
     ]
    }
   ],
   "source": [
    "import requests, json\n",
    "\n",
    "url = \"http://localhost:11434/api/generate\"\n",
    "data = {\n",
    "    \"model\": \"gemma3:12b\",\n",
    "    \"prompt\": \"Say hello from Ollama!\"\n",
    "}\n",
    "\n",
    "response = requests.post(url, json=data, stream=True)\n",
    "\n",
    "full_response = \"\"\n",
    "for line in response.iter_lines():\n",
    "    if line:\n",
    "        content = json.loads(line.decode(\"utf-8\"))\n",
    "        if \"response\" in content:\n",
    "            full_response += content[\"response\"]\n",
    "\n",
    "print(full_response)"
   ]
  },
  {
   "cell_type": "code",
   "execution_count": 5,
   "id": "307b9346",
   "metadata": {},
   "outputs": [
    {
     "name": "stdout",
     "output_type": "stream",
     "text": [
      "label\n",
      "negative    538\n",
      "positive    462\n",
      "Name: count, dtype: int64\n"
     ]
    },
    {
     "data": {
      "text/html": [
       "<div>\n",
       "<style scoped>\n",
       "    .dataframe tbody tr th:only-of-type {\n",
       "        vertical-align: middle;\n",
       "    }\n",
       "\n",
       "    .dataframe tbody tr th {\n",
       "        vertical-align: top;\n",
       "    }\n",
       "\n",
       "    .dataframe thead th {\n",
       "        text-align: right;\n",
       "    }\n",
       "</style>\n",
       "<table border=\"1\" class=\"dataframe\">\n",
       "  <thead>\n",
       "    <tr style=\"text-align: right;\">\n",
       "      <th></th>\n",
       "      <th>label</th>\n",
       "      <th>review</th>\n",
       "    </tr>\n",
       "  </thead>\n",
       "  <tbody>\n",
       "    <tr>\n",
       "      <th>0</th>\n",
       "      <td>positive</td>\n",
       "      <td>Stuning even for the non-gamer: This sound tra...</td>\n",
       "    </tr>\n",
       "    <tr>\n",
       "      <th>1</th>\n",
       "      <td>positive</td>\n",
       "      <td>The best soundtrack ever to anything.: I'm rea...</td>\n",
       "    </tr>\n",
       "    <tr>\n",
       "      <th>2</th>\n",
       "      <td>positive</td>\n",
       "      <td>Amazing!: This soundtrack is my favorite music...</td>\n",
       "    </tr>\n",
       "    <tr>\n",
       "      <th>3</th>\n",
       "      <td>positive</td>\n",
       "      <td>Excellent Soundtrack: I truly like this soundt...</td>\n",
       "    </tr>\n",
       "    <tr>\n",
       "      <th>4</th>\n",
       "      <td>positive</td>\n",
       "      <td>Remember, Pull Your Jaw Off The Floor After He...</td>\n",
       "    </tr>\n",
       "  </tbody>\n",
       "</table>\n",
       "</div>"
      ],
      "text/plain": [
       "      label                                             review\n",
       "0  positive  Stuning even for the non-gamer: This sound tra...\n",
       "1  positive  The best soundtrack ever to anything.: I'm rea...\n",
       "2  positive  Amazing!: This soundtrack is my favorite music...\n",
       "3  positive  Excellent Soundtrack: I truly like this soundt...\n",
       "4  positive  Remember, Pull Your Jaw Off The Floor After He..."
      ]
     },
     "execution_count": 5,
     "metadata": {},
     "output_type": "execute_result"
    }
   ],
   "source": [
    "# Correctly open and read the BZ2-compressed text file\n",
    "file_path = f\"{path}/train.ft.txt.bz2\"\n",
    "\n",
    "data = []\n",
    "with bz2.open(file_path, \"rt\", encoding=\"utf-8\", errors=\"ignore\") as f:\n",
    "    for i, line in enumerate(f):\n",
    "        if i >= 1000:  # keep it small for now\n",
    "            break\n",
    "        parts = line.strip().split(\" \", 1)\n",
    "        if len(parts) != 2:\n",
    "            continue\n",
    "        label, text = parts\n",
    "        data.append((label, text))\n",
    "\n",
    "# Create DataFrame\n",
    "df = pd.DataFrame(data, columns=[\"label\", \"review\"])\n",
    "\n",
    "# Clean label names\n",
    "df[\"label\"] = df[\"label\"].replace({\"__label__1\": \"negative\", \"__label__2\": \"positive\"})\n",
    "\n",
    "# Preview\n",
    "print(df[\"label\"].value_counts())\n",
    "df.head()\n",
    "\n"
   ]
  },
  {
   "cell_type": "code",
   "execution_count": null,
   "id": "1e044772",
   "metadata": {},
   "outputs": [],
   "source": []
  }
 ],
 "metadata": {
  "kernelspec": {
   "display_name": "base",
   "language": "python",
   "name": "python3"
  },
  "language_info": {
   "codemirror_mode": {
    "name": "ipython",
    "version": 3
   },
   "file_extension": ".py",
   "mimetype": "text/x-python",
   "name": "python",
   "nbconvert_exporter": "python",
   "pygments_lexer": "ipython3",
   "version": "3.13.5"
  }
 },
 "nbformat": 4,
 "nbformat_minor": 5
}
